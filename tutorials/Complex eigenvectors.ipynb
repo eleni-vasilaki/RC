{
 "cells": [
  {
   "cell_type": "code",
   "execution_count": 1,
   "id": "ad4f491b",
   "metadata": {},
   "outputs": [],
   "source": [
    "import numpy as np"
   ]
  },
  {
   "cell_type": "markdown",
   "id": "ff81ecb6",
   "metadata": {},
   "source": [
    "### Assume A nxn a real value matrix, invertable. If there are complex eigenvalues, in general eigenvectors are also complex.\n"
   ]
  },
  {
   "cell_type": "markdown",
   "id": "3d796ab7",
   "metadata": {},
   "source": [
    "Example"
   ]
  },
  {
   "cell_type": "code",
   "execution_count": 2,
   "id": "5988c14a",
   "metadata": {},
   "outputs": [],
   "source": [
    "A=np.array([[5, -2], [5, -1]])"
   ]
  },
  {
   "cell_type": "code",
   "execution_count": 3,
   "id": "1a73dc58",
   "metadata": {},
   "outputs": [
    {
     "name": "stdout",
     "output_type": "stream",
     "text": [
      "[[ 5 -2]\n",
      " [ 5 -1]]\n"
     ]
    }
   ],
   "source": [
    "print(A)"
   ]
  },
  {
   "cell_type": "markdown",
   "id": "67e4da17",
   "metadata": {},
   "source": [
    "$\\lambda$ (l in code) : eigenvalues, $\\nu$ (v in code): eigenvectors"
   ]
  },
  {
   "cell_type": "code",
   "execution_count": 4,
   "id": "723697b5",
   "metadata": {},
   "outputs": [],
   "source": [
    "l,v= np.linalg.eig(A)"
   ]
  },
  {
   "cell_type": "code",
   "execution_count": 5,
   "id": "1aeeeb27",
   "metadata": {},
   "outputs": [
    {
     "name": "stdout",
     "output_type": "stream",
     "text": [
      "[2.+1.j 2.-1.j]\n"
     ]
    }
   ],
   "source": [
    "print(l)"
   ]
  },
  {
   "cell_type": "code",
   "execution_count": 6,
   "id": "952d2d6c",
   "metadata": {},
   "outputs": [
    {
     "name": "stdout",
     "output_type": "stream",
     "text": [
      "[[0.50709255+0.16903085j 0.50709255-0.16903085j]\n",
      " [0.84515425+0.j         0.84515425-0.j        ]]\n"
     ]
    }
   ],
   "source": [
    "print(v)"
   ]
  },
  {
   "cell_type": "markdown",
   "id": "8c41d22b",
   "metadata": {},
   "source": [
    "It is not a coincidence that eigenvalues appear in conjugate pairs."
   ]
  },
  {
   "cell_type": "markdown",
   "id": "e5a597a4",
   "metadata": {},
   "source": [
    "### If the n × n matrix A has real entries, its complex eigenvalues will always occur in complex conjugate pairs.\n",
    "\n",
    "Proof: $A \\nu =\\lambda \\nu, \\nu \\ne 0$ with $\\nu$ a complex eigenvector\n",
    "\n",
    "Lets take complex conjugates of the above equation:\n",
    "\n",
    "$\\bar{A} \\bar{\\nu} = \\bar{\\lambda} \\bar{\\nu}$\n",
    "\n",
    "But since $A$ has real values: \n",
    "\n",
    "$A \\bar{\\nu} = \\bar{\\lambda} \\bar{\\nu}$\n",
    "\n",
    "Therefore if $\\nu$ eigenvector then  then $\\bar{\\nu}$ eigenvector."
   ]
  },
  {
   "cell_type": "markdown",
   "id": "3374bce5",
   "metadata": {},
   "source": [
    "### Interpreating complex eigenvalues"
   ]
  },
  {
   "cell_type": "markdown",
   "id": "4804aa9b",
   "metadata": {},
   "source": [
    "<img src=\"IMG_1495.jpeg\" width=\"500\" height=\"500\">"
   ]
  },
  {
   "cell_type": "markdown",
   "id": "f3b006dd",
   "metadata": {},
   "source": [
    "We start from the definition of the eigenvectors and eigenvalues:\n",
    "\n",
    "$A \\nu =\\lambda \\nu$\n",
    "\n",
    "We will express $\\lambda$ in polar coordinates:\n",
    "$\\lambda=\\left|\\lambda\\right| \\left(\\cos\\theta + i~\\sin\\theta \\right)$\n",
    "and $\\nu= \\operatorname{Re}(v)+i \\operatorname{Im}(v)$\n",
    "\n",
    "$A \\operatorname{Re}(v)+i \\operatorname{Im}(v) =\\left|\\lambda\\right| \\left[\\cos\\theta \\operatorname{Re}(v)+ i \\cos\\theta \\operatorname{Im}(v) + i \\sin \\theta \\operatorname{Re}(v) - \\sin \\theta \\operatorname{Im}(v)\\right]$\n",
    "\n",
    "$ A \\operatorname{Re} (\\nu) = \\left|\\lambda\\right| \\left[\\cos\\theta \\operatorname{Re}(v) - \\sin \\theta \\operatorname{Im}(v)\\right]$\n",
    "\n",
    "$ A \\operatorname{Im} (\\nu) = \\left|\\lambda\\right| \\left[\\cos\\theta \\operatorname{Im}(v) + \\sin \\theta \\operatorname{Re}(v) \\right]$\n",
    "\n",
    "We will write the above equations into a sigle matrix equation. To do this, we will combine the column vector $\\operatorname{Re}(v)$ with the column vector $ \\operatorname{Im}(\\nu)$ to get an nx2 matrix $\\Lambda= \\left[ \\operatorname{Re}(v)| \\operatorname{Im}(\\nu)\\right]$.\n",
    "\n",
    "$A \\Lambda =  \\left|\\lambda\\right| \\Lambda \\begin{bmatrix} \\cos \\theta & \\sin \\theta\\\\ -\\sin \\theta & \\cos \\theta \\\\ \\end{bmatrix}$\n",
    "\n",
    "Which can be interpreated as scaling by a positive factor and clockwise rotation by $\\theta$"
   ]
  },
  {
   "cell_type": "code",
   "execution_count": null,
   "id": "4d2bd1f1",
   "metadata": {},
   "outputs": [],
   "source": []
  }
 ],
 "metadata": {
  "kernelspec": {
   "display_name": "Python 3 (ipykernel)",
   "language": "python",
   "name": "python3"
  },
  "language_info": {
   "codemirror_mode": {
    "name": "ipython",
    "version": 3
   },
   "file_extension": ".py",
   "mimetype": "text/x-python",
   "name": "python",
   "nbconvert_exporter": "python",
   "pygments_lexer": "ipython3",
   "version": "3.10.4"
  }
 },
 "nbformat": 4,
 "nbformat_minor": 5
}
